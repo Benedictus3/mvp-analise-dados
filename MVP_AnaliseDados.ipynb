import pandas as pd

url = "https://raw.githubusercontent.com/Benedictus3/mvp-analise-dados/main/050625_LoL_champion_data.csv"
df = pd.read_csv(url)
df.head() 
