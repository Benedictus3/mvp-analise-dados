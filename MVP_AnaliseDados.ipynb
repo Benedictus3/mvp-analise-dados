import pandas as pd

url = "https://raw.githubusercontent.com/Benedictus3/mvp-analise-dados/main/data.csv"
df = pd.read_csv(url)
df.head() 
